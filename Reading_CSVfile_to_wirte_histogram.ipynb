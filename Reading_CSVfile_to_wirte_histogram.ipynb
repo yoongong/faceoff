{
 "cells": [
  {
   "cell_type": "code",
   "execution_count": 1,
   "metadata": {},
   "outputs": [
    {
     "name": "stdout",
     "output_type": "stream",
     "text": [
      "Normalized_csv_HAPPY_FRAME_b003kho_rgb_pic_hap.csv\n",
      "Normalized_csv_HAPPY_FRAME_b004hjy_rgb_pic_hap.csv\n",
      "Normalized_csv_HAPPY_FRAME_b006pjm_rgb_pic_hap.csv\n",
      "Normalized_csv_HAPPY_FRAME_b007isj_rgb_pic_hap.csv\n",
      "Normalized_csv_HAPPY_FRAME_b010ydi_rgb_pic_hap.csv\n",
      "Normalized_csv_HAPPY_FRAME_b015lsj_rgb_pic_hap.csv\n",
      "Normalized_csv_HAPPY_FRAME_b016cjy_rgb_pic_hap.csv\n",
      "Normalized_csv_HAPPY_FRAME_b017yjh_rgb_pic_hap.csv\n",
      "Normalized_csv_HAPPY_FRAME_b020jhs_rgb_pic_hap.csv\n",
      "Normalized_csv_HAPPY_FRAME_b023ckh_rgb_pic_hap.csv\n",
      "Normalized_csv_HAPPY_FRAME_b027hmg_rgb_pic_hap.csv\n",
      "Normalized_csv_HAPPY_FRAME_b030ktm_rgb_pic_hap.csv\n",
      "Normalized_csv_HAPPY_FRAME_b031sje_rgb_pic_hap.csv\n",
      "Normalized_csv_HAPPY_FRAME_b032kjh_rgb_pic_hap.csv\n",
      "Normalized_csv_HAPPY_FRAME_b033pjy_rgb_pic__hap.csv\n",
      "Normalized_csv_HAPPY_FRAME_b034chs_rgb_pic_hap.csv\n",
      "Normalized_csv_HAPPY_FRAME_b036kny_rgb_pic_hap.csv\n",
      "Normalized_csv_HAPPY_FRAME_b037smw_rgb_pic_hap.csv\n",
      "Normalized_csv_HAPPY_FRAME_b039khy_rgb_pic_hap.csv\n",
      "Normalized_csv_HAPPY_FRAME_b041kjy_rgb_pic_hap.csv\n",
      "Normalized_csv_HAPPY_FRAME_b043pcs_rgb_pic_hap.csv\n",
      "Normalized_csv_HAPPY_FRAME_b044ach_rgb_pic_hap.csv\n",
      "Normalized_csv_HAPPY_FRAME_b047bjw_rgb_pic_hap.csv\n",
      "Normalized_csv_HAPPY_FRAME_b048lje_rgb_pic_hap.csv\n",
      "Normalized_csv_HAPPY_FRAME_b049jsy_rgb_pic_hap.csv\n",
      "Normalized_csv_HAPPY_FRAME_b051seg_rgb_pic_hap.csv\n",
      "Normalized_csv_HAPPY_FRAME_b053kjh_rgb_pic_hap.csv\n",
      "27\n"
     ]
    }
   ],
   "source": [
    "from numpy import *\n",
    "import operator\n",
    "from os import listdir\n",
    "from os import path\n",
    "from os import chdir\n",
    "import csv\n",
    "\n",
    "posed_file_list = listdir('C:/Users/guy92/Desktop/SYMMETRY_csvfile_HAPPY/MIN_MAX_result/boramae/posed')\n",
    "\n",
    "m = len(posed_file_list)\n",
    "\n",
    "for i in range(m):\n",
    "    fileName = posed_file_list[i]\n",
    "    print(fileName)\n",
    "    \n",
    "print(m)"
   ]
  },
  {
   "cell_type": "code",
   "execution_count": 2,
   "metadata": {},
   "outputs": [
    {
     "name": "stdout",
     "output_type": "stream",
     "text": [
      "Normalized_csv_HAPPY_FRAME_seg.b003kho_rgb_vid2.csv\n",
      "Normalized_csv_HAPPY_FRAME_seg.b004hjy_rgb_vid2.csv\n",
      "Normalized_csv_HAPPY_FRAME_seg.b006pjm_rgb_vid2.csv\n",
      "Normalized_csv_HAPPY_FRAME_seg.b007isj_rgb_vid1.csv\n",
      "Normalized_csv_HAPPY_FRAME_seg.b010ydi_rgb_vid2.csv\n",
      "Normalized_csv_HAPPY_FRAME_seg.b015lsj_rgb_vid1.csv\n",
      "Normalized_csv_HAPPY_FRAME_seg.b016cjy_rgb_vid2.csv\n",
      "Normalized_csv_HAPPY_FRAME_seg.b017yjh_rgb_vid2.csv\n",
      "Normalized_csv_HAPPY_FRAME_seg.b020jhs_rgb_vid2.csv\n",
      "Normalized_csv_HAPPY_FRAME_seg.b023ckh_rgb_vid1.csv\n",
      "Normalized_csv_HAPPY_FRAME_seg.b027hmg_rgb_vid1.csv\n",
      "Normalized_csv_HAPPY_FRAME_seg.b030ktm_rgb_vid2.csv\n",
      "Normalized_csv_HAPPY_FRAME_seg.b031sje_rgb_vid2.csv\n",
      "Normalized_csv_HAPPY_FRAME_seg.b032kjh_rgb_vid1.csv\n",
      "Normalized_csv_HAPPY_FRAME_seg.b033pjy_rgb_vid1.csv\n",
      "Normalized_csv_HAPPY_FRAME_seg.b034chs_rgb_vid2.csv\n",
      "Normalized_csv_HAPPY_FRAME_seg.b036kny_rgb_vid2.csv\n",
      "Normalized_csv_HAPPY_FRAME_seg.b037smw_rgb_vid2.csv\n",
      "Normalized_csv_HAPPY_FRAME_seg.b039khy_rgb_vid2.csv\n",
      "Normalized_csv_HAPPY_FRAME_seg.b041kjy_rgb_vid1.csv\n",
      "Normalized_csv_HAPPY_FRAME_seg.b043pcs_rgb_vid2.csv\n",
      "Normalized_csv_HAPPY_FRAME_seg.b044ach_rgb_vid2.csv\n",
      "Normalized_csv_HAPPY_FRAME_seg.b047bjw_rgb_vid1.csv\n",
      "Normalized_csv_HAPPY_FRAME_seg.b048lje_rgb_vid1.csv\n",
      "Normalized_csv_HAPPY_FRAME_seg.b049jsy_rgb_vid1.csv\n",
      "Normalized_csv_HAPPY_FRAME_seg.b051seg_rgb_vid2.csv\n",
      "Normalized_csv_HAPPY_FRAME_seg.b053kjh_rgb_vid2.csv\n",
      "27\n"
     ]
    }
   ],
   "source": [
    "spontaneous_file_list = listdir('C:/Users/guy92/Desktop/SYMMETRY_csvfile_HAPPY/MIN_MAX_result/boramae/spontaneous')\n",
    "\n",
    "m = len(spontaneous_file_list)\n",
    "\n",
    "for i in range(m):\n",
    "    fileName = spontaneous_file_list[i]\n",
    "    print(fileName)\n",
    "    \n",
    "print(m)"
   ]
  },
  {
   "cell_type": "code",
   "execution_count": 48,
   "metadata": {
    "collapsed": true
   },
   "outputs": [],
   "source": [
    "import io\n",
    "\n",
    "def readcsv(filename):\n",
    "    fr = open(filename)\n",
    "    numberOfLines = len(fr.readlines())      #get the number of lines in the file\n",
    "    returnMat = zeros((numberOfLines-1,29))     #prepare matrix to return\n",
    "\n",
    "    fr = open(filename)\n",
    "    index = 0\n",
    "\n",
    "    for line in fr.readlines():\n",
    "        line = line.strip()\n",
    "        listFromLine = line.split(',')\n",
    "        a = []\n",
    "        for item in listFromLine:\n",
    "            if isNumber(item):\n",
    "                a.append(float(item))\n",
    "            else:\n",
    "                continue    \n",
    "        if len(a) > 1:\n",
    "            returnMat[index,:] = a[1:30]\n",
    "            index += 1\n",
    "    \n",
    "    return returnMat\n",
    "\n",
    "def isNumber(s):\n",
    "  try:\n",
    "    float(s)\n",
    "    return True\n",
    "  except ValueError:\n",
    "    return False\n"
   ]
  },
  {
   "cell_type": "code",
   "execution_count": 59,
   "metadata": {},
   "outputs": [],
   "source": [
    "import io\n",
    "\n",
    "chdir('C:/Users/guy92/Desktop/SYMMETRY_csvfile_HAPPY/MIN_MAX_result/boramae/posed')\n",
    "posed_data = readcsv(posed_file_list[0])\n",
    "posed_data = posed_data.transpose()\n",
    "\n",
    "chdir('C:/Users/guy92/Desktop/SYMMETRY_csvfile_HAPPY/MIN_MAX_result/boramae/spontaneous')\n",
    "spontaneous_data = readcsv(spontaneous_file_list[0])\n",
    "spontaneous_data = spontaneous_data.transpose()"
   ]
  },
  {
   "cell_type": "code",
   "execution_count": 60,
   "metadata": {},
   "outputs": [
    {
     "name": "stdout",
     "output_type": "stream",
     "text": [
      "[[0.3383 0.3726 0.4286 ... 0.8695 0.7556 0.297 ]\n",
      " [0.1681 0.0252 0.0578 ... 0.1335 0.0944 0.5518]\n",
      " [0.3915 0.2951 0.2955 ... 0.3886 0.4178 0.5921]\n",
      " ...\n",
      " [0.1947 0.2586 0.2172 ... 0.5499 0.5485 0.3681]\n",
      " [0.2881 0.3355 0.3172 ... 0.4287 0.4243 0.4182]\n",
      " [0.426  0.4444 0.4837 ... 0.4144 0.4376 0.6057]]\n"
     ]
    }
   ],
   "source": [
    "print posed_data"
   ]
  },
  {
   "cell_type": "code",
   "execution_count": 61,
   "metadata": {},
   "outputs": [
    {
     "name": "stdout",
     "output_type": "stream",
     "text": [
      "[[0.1583 0.2235 0.279  ... 0.3292 0.3072 0.2848]\n",
      " [0.0059 0.0443 0.0829 ... 0.1384 0.1233 0.1396]\n",
      " [0.1575 0.1951 0.2161 ... 0.1347 0.1119 0.1247]\n",
      " ...\n",
      " [0.4146 0.4903 0.541  ... 0.034  0.0386 0.0367]\n",
      " [0.3621 0.4405 0.5009 ... 0.0713 0.0806 0.0785]\n",
      " [0.1731 0.246  0.2902 ... 0.1547 0.1547 0.1484]]\n"
     ]
    }
   ],
   "source": [
    "print spontaneous_data"
   ]
  },
  {
   "cell_type": "code",
   "execution_count": 86,
   "metadata": {},
   "outputs": [
    {
     "data": {
      "image/png": "[encoded data removed]",
      "text/plain": [
       "<Figure size 432x288 with 1 Axes>"
      ]
     },
     "metadata": {},
     "output_type": "display_data"
    }
   ],
   "source": [
    "import matplotlib as mpl\n",
    "import matplotlib.pyplot as plt\n",
    "from distutils.version import LooseVersion\n",
    " \n",
    "plt.hist(posed_data[0,:], bins= 100, histtype='stepfilled', normed = True, label='posed')\n",
    "plt.hist(spontaneous_data[0,:], bins =100, histtype='stepfilled', normed = True, alpha=0.75, label='spontaneous')\n",
    "plt.title(\"posed_data/spontaneous_data\")\n",
    "plt.xlabel(\"value\")\n",
    "plt.ylabel(\"Frequency\")\n",
    "plt.legend()\n",
    "plt.show()"
   ]
  },
  {
   "cell_type": "code",
   "execution_count": 87,
   "metadata": {},
   "outputs": [
    {
     "data": {
      "image/png": "[encoded data removed]",
      "text/plain": [
       "<Figure size 432x288 with 1 Axes>"
      ]
     },
     "metadata": {},
     "output_type": "display_data"
    }
   ],
   "source": [
    " \n",
    "plt.hist(posed_data[1,:], bins= 100, histtype='stepfilled', normed = True, label='posed')\n",
    "plt.hist(spontaneous_data[1,:], bins =100, histtype='stepfilled', normed = True, alpha=0.75, label='spontaneous')\n",
    "plt.title(\"posed_data/spontaneous_data\")\n",
    "plt.xlabel(\"value\")\n",
    "plt.ylabel(\"Frequency\")\n",
    "plt.legend()\n",
    "plt.show()"
   ]
  },
  {
   "cell_type": "code",
   "execution_count": 88,
   "metadata": {},
   "outputs": [
    {
     "data": {
      "image/png": "[encoded data removed]",
      "text/plain": [
       "<Figure size 432x288 with 1 Axes>"
      ]
     },
     "metadata": {},
     "output_type": "display_data"
    }
   ],
   "source": [
    " \n",
    "plt.hist(posed_data[2,:], bins= 100, histtype='stepfilled', normed = True, label='posed')\n",
    "plt.hist(spontaneous_data[2,:], bins =100, histtype='stepfilled', normed = True, alpha=0.75, label='spontaneous')\n",
    "plt.title(\"posed_data/spontaneous_data\")\n",
    "plt.xlabel(\"value\")\n",
    "plt.ylabel(\"Frequency\")\n",
    "plt.legend()\n",
    "plt.show()"
   ]
  }
 ],
 "metadata": {
  "kernelspec": {
   "display_name": "ML_in_action",
   "language": "python",
   "name": "python27"
  },
  "language_info": {
   "codemirror_mode": {
    "name": "ipython",
    "version": 2
   },
   "file_extension": ".py",
   "mimetype": "text/x-python",
   "name": "python",
   "nbconvert_exporter": "python",
   "pygments_lexer": "ipython2",
   "version": "2.7.14"
  }
 },
 "nbformat": 4,
 "nbformat_minor": 2
}
