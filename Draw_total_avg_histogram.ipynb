{
 "cells": [
  {
   "cell_type": "code",
   "execution_count": 1,
   "metadata": {},
   "outputs": [
    {
     "name": "stdout",
     "output_type": "stream",
     "text": [
      "Normalized_csv_HAPPY_FRAME_b032kjh_rgb_pic_hap.csv\n",
      "Normalized_csv_HAPPY_FRAME_b036kny_rgb_pic_hap.csv\n",
      "Normalized_csv_HAPPY_FRAME_b020jhs_rgb_pic_hap.csv\n",
      "Normalized_csv_HAPPY_FRAME_b048lje_rgb_pic_hap.csv\n",
      "Normalized_csv_HAPPY_FRAME_b010ydi_rgb_pic_hap.csv\n",
      "Normalized_csv_HAPPY_FRAME_s002ohl_rgb_pic_hap.csv\n",
      "Normalized_csv_HAPPY_FRAME_s010ldj_rgb_pic_hap.csv\n",
      "Normalized_csv_HAPPY_FRAME_s005pny_rgb_pic_hap.csv\n",
      "Normalized_csv_HAPPY_FRAME_s004psm_rgb_pic_hap.csv\n",
      "Normalized_csv_HAPPY_FRAME_b043pcs_rgb_pic_hap.csv\n",
      "Normalized_csv_HAPPY_FRAME_s055syh_rgb_pic_hap.csv\n",
      "Normalized_csv_HAPPY_FRAME_b037smw_rgb_pic_hap.csv\n",
      "Normalized_csv_HAPPY_FRAME_b034chs_rgb_pic_hap.csv\n",
      "Normalized_csv_HAPPY_FRAME_b049jsy_rgb_pic_hap.csv\n",
      "Normalized_csv_HAPPY_FRAME_s007oyj_rgb_pic_hap.csv\n",
      "Normalized_csv_HAPPY_FRAME_b033pjy_rgb_pic__hap.csv\n",
      "Normalized_csv_HAPPY_FRAME_b051seg_rgb_pic_hap.csv\n",
      "Normalized_csv_HAPPY_FRAME_s044sj_rgb_pic_hap.csv\n",
      "Normalized_csv_HAPPY_FRAME_b003kho_rgb_pic_hap.csv\n",
      "Normalized_csv_HAPPY_FRAME_b006pjm_rgb_pic_hap.csv\n",
      "Normalized_csv_HAPPY_FRAME_s008hsh_rgb_pic_hap.csv\n",
      "Normalized_csv_HAPPY_FRAME_b044ach_rgb_pic_hap.csv\n",
      "Normalized_csv_HAPPY_FRAME_s045csy_rgb_pic_hap.csv\n",
      "Normalized_csv_HAPPY_FRAME_s027ksy_rgb_pic_hap.csv\n",
      "Normalized_csv_HAPPY_FRAME_s020yhj_rgb_pic_hap.csv\n",
      "Normalized_csv_HAPPY_FRAME_b007isj_rgb_pic_hap.csv\n",
      "Normalized_csv_HAPPY_FRAME_b047bjw_rgb_pic_hap.csv\n",
      "Normalized_csv_HAPPY_FRAME_b039khy_rgb_pic_hap.csv\n",
      "Normalized_csv_HAPPY_FRAME_s053lyr_rgb_pic_hap.csv\n",
      "Normalized_csv_HAPPY_FRAME_s019ydy_rgb_pic_hap.csv\n",
      "Normalized_csv_HAPPY_FRAME_b023ckh_rgb_pic_hap.csv\n",
      "Normalized_csv_HAPPY_FRAME_b030ktm_rgb_pic_hap.csv\n",
      "Normalized_csv_HAPPY_FRAME_s060yjs_rgb_hap.csv\n",
      "Normalized_csv_HAPPY_FRAME_s031yes_rgb_pic_hap.csv\n",
      "Normalized_csv_HAPPY_FRAME_s013khw_rgb_pic_hap.csv\n",
      "Normalized_csv_HAPPY_FRAME_s009yjh_rgb_pic_hap.csv\n",
      "Normalized_csv_HAPPY_FRAME_b004hjy_rgb_pic_hap.csv\n",
      "Normalized_csv_HAPPY_FRAME_b031sje_rgb_pic_hap.csv\n",
      "Normalized_csv_HAPPY_FRAME_b041kjy_rgb_pic_hap.csv\n",
      "Normalized_csv_HAPPY_FRAME_s047lsh_rgb_pic_hap.csv\n",
      "Normalized_csv_HAPPY_FRAME_s048lbk_rgb_pic_hap.csv\n",
      "Normalized_csv_HAPPY_FRAME_s050kmk_rgb_pic_hap.csv\n",
      "Normalized_csv_HAPPY_FRAME_b015lsj_rgb_pic_hap.csv\n",
      "Normalized_csv_HAPPY_FRAME_s049kjw_rgb_pic_hap.csv\n",
      "Normalized_csv_HAPPY_FRAME_b017yjh_rgb_pic_hap.csv\n",
      "Normalized_csv_HAPPY_FRAME_s001pmg_rgb_pic_hap.csv\n",
      "Normalized_csv_HAPPY_FRAME_s018jdh_rgb_pic_hap.csv\n",
      "Normalized_csv_HAPPY_FRAME_s043pjh_rgb_pic_hap.csv\n",
      "Normalized_csv_HAPPY_FRAME_b027hmg_rgb_pic_hap.csv\n",
      "Normalized_csv_HAPPY_FRAME_s042yhy_rgb_pic_hap.csv\n",
      "Normalized_csv_HAPPY_FRAME_b053kjh_rgb_pic_hap.csv\n",
      "Normalized_csv_HAPPY_FRAME_s021peb_rgb_pic_hap.csv\n",
      "Normalized_csv_HAPPY_FRAME_s040jyj_rgb_pic_hap.csv\n",
      "Normalized_csv_HAPPY_FRAME_s006ksb_rgb_pic_hap.csv\n",
      "Normalized_csv_HAPPY_FRAME_s030cyr_rgb_pic_hap.csv\n",
      "Normalized_csv_HAPPY_FRAME_s015sjh_rgb_pic_hap.csv\n",
      "Normalized_csv_HAPPY_FRAME_b016cjy_rgb_pic_hap.csv\n"
     ]
    }
   ],
   "source": [
    "from numpy import *\n",
    "import operator\n",
    "import os\n",
    "from os import listdir\n",
    "from os import path\n",
    "from os import chdir\n",
    "import csv\n",
    "import io\n",
    "import matplotlib as mpl\n",
    "import matplotlib.pyplot as plt\n",
    "\n",
    "type_string = [];\n",
    "type_string.append(\"eyebrow_0\")\n",
    "type_string.append(\"eyebrow_1\")\n",
    "type_string.append(\"eyebrow_2\")\n",
    "type_string.append(\"eyebrow_3\")\n",
    "type_string.append(\"eyebrow_4\")\n",
    "type_string.append(\"eye_0\")\n",
    "type_string.append(\"eye_1\")\n",
    "type_string.append(\"eye_2\")\n",
    "type_string.append(\"eye_3\")\n",
    "type_string.append(\"eye_4\")\n",
    "type_string.append(\"eye_5\")\n",
    "type_string.append(\"nose_0\")\n",
    "type_string.append(\"nose_1\")\n",
    "type_string.append(\"mouth_0\")\n",
    "type_string.append(\"mouth_1\")\n",
    "type_string.append(\"mouth_2\")\n",
    "type_string.append(\"mouth_3\")\n",
    "type_string.append(\"mouth_4\")\n",
    "type_string.append(\"mouth_5\")\n",
    "type_string.append(\"mouth_6\")\n",
    "type_string.append(\"mouth_7\")\n",
    "type_string.append(\"outline_0\")\n",
    "type_string.append(\"outline_1\")\n",
    "type_string.append(\"outline_2\")\n",
    "type_string.append(\"outline_3\")\n",
    "type_string.append(\"outline_4\")\n",
    "type_string.append(\"outline_5\")\n",
    "type_string.append(\"outline_6\")\n",
    "type_string.append(\"outline_7\")\n",
    "\n",
    "\n",
    "def isNumber(s):\n",
    "  try:\n",
    "    float(s)\n",
    "    return True\n",
    "  except ValueError:\n",
    "    return False\n",
    "\n",
    "def readcsv(filename):\n",
    "    fr = open(filename)\n",
    "    numberOfLines = len(fr.readlines())      #get the number of lines in the file\n",
    "    returnMat = zeros((numberOfLines-1,29))     #prepare matrix to return\n",
    "\n",
    "    fr = open(filename)\n",
    "    index = 0\n",
    "\n",
    "    for line in fr.readlines():\n",
    "        line = line.strip()\n",
    "        listFromLine = line.split(',')\n",
    "        a = []\n",
    "        for item in listFromLine:\n",
    "            if isNumber(item):\n",
    "                a.append(float(item))\n",
    "            else:\n",
    "                continue    \n",
    "        if len(a) > 1:\n",
    "            returnMat[index,:] = a[1:30]\n",
    "            index += 1\n",
    "    \n",
    "    return returnMat\n",
    "\n",
    "posed_file_list = listdir('posed')\n",
    "\n",
    "m = len(posed_file_list)\n",
    "\n",
    "for i in range(m):\n",
    "    fileName = posed_file_list[i]\n",
    "    print(fileName)"
   ]
  },
  {
   "cell_type": "code",
   "execution_count": 2,
   "metadata": {},
   "outputs": [
    {
     "name": "stdout",
     "output_type": "stream",
     "text": [
      "Normalized_csv_HAPPY_FRAME_seg.s055syh_rgb_vid1.csv\n",
      "Normalized_csv_HAPPY_FRAME_seg.s030cyr_rgb_vid1.csv\n",
      "Normalized_csv_HAPPY_FRAME_seg.s053lyr_rgb_vid2.csv\n",
      "Normalized_csv_HAPPY_FRAME_seg.b044ach_rgb_vid2.csv\n",
      "Normalized_csv_HAPPY_FRAME_seg.s021peb_rgb_vid1.csv\n",
      "Normalized_csv_HAPPY_FRAME_seg.b017yjh_rgb_vid2.csv\n",
      "Normalized_csv_HAPPY_FRAME_seg.s008hsh_rgb_vid2.csv\n",
      "Normalized_csv_HAPPY_FRAME_seg.b020jhs_rgb_vid2.csv\n",
      "Normalized_csv_HAPPY_FRAME_seg.b030ktm_rgb_vid2.csv\n",
      "Normalized_csv_HAPPY_FRAME_seg.s010ldj_rgb_vid2.csv\n",
      "Normalized_csv_HAPPY_FRAME_seg.b016cjy_rgb_vid2.csv\n",
      "Normalized_csv_HAPPY_FRAME_seg.b051seg_rgb_vid2.csv\n",
      "Normalized_csv_HAPPY_FRAME_seg.s045csy_rgb_vid1.csv\n",
      "Normalized_csv_HAPPY_FRAME_seg.b010ydi_rgb_vid2.csv\n",
      "Normalized_csv_HAPPY_FRAME_seg.s005pny_rgb_vid2.csv\n",
      "Normalized_csv_HAPPY_FRAME_seg.b023ckh_rgb_vid1.csv\n",
      "Normalized_csv_HAPPY_FRAME_seg.s027ksy_rgb_vid2.csv\n",
      "Normalized_csv_HAPPY_FRAME_seg.s060yjs_rgb_vid1.csv\n",
      "Normalized_csv_HAPPY_FRAME_seg.b053kjh_rgb_vid2.csv\n",
      "Normalized_csv_HAPPY_FRAME_seg.s047lsh_rgb_vid2.csv\n",
      "Normalized_csv_HAPPY_FRAME_seg.b043pcs_rgb_vid2.csv\n",
      "Normalized_csv_HAPPY_FRAME_seg.s009yjh_rgb_vid2.csv\n",
      "Normalized_csv_HAPPY_FRAME_seg.b015lsj_rgb_vid1.csv\n",
      "Normalized_csv_HAPPY_FRAME_seg.b041kjy_rgb_vid1.csv\n",
      "Normalized_csv_HAPPY_FRAME_seg.b039khy_rgb_vid2.csv\n",
      "Normalized_csv_HAPPY_FRAME_seg.s050kmk_rgb_vid1.csv\n",
      "Normalized_csv_HAPPY_FRAME_seg.s002ohl_rgb_vid1.csv\n",
      "Normalized_csv_HAPPY_FRAME_seg.s006ksb_rgb_vid1.csv\n",
      "Normalized_csv_HAPPY_FRAME_seg.b032kjh_rgb_vid1.csv\n",
      "Normalized_csv_HAPPY_FRAME_seg.b007isj_rgb_vid1.csv\n",
      "Normalized_csv_HAPPY_FRAME_seg.s043pjh_rgb_vid2.csv\n",
      "Normalized_csv_HAPPY_FRAME_seg.s020yhj_rgb_vid2.csv\n",
      "Normalized_csv_HAPPY_FRAME_seg.s049kjw_rgb_vid2.csv\n",
      "Normalized_csv_HAPPY_FRAME_seg.s048lbk_rgb_vid2.csv\n",
      "Normalized_csv_HAPPY_FRAME_seg.s007oyj_rgb_vid1.csv\n",
      "Normalized_csv_HAPPY_FRAME_seg.b036kny_rgb_vid2.csv\n",
      "Normalized_csv_HAPPY_FRAME_seg.b033pjy_rgb_vid1.csv\n",
      "Normalized_csv_HAPPY_FRAME_seg.s042yhy_rgb_vid2.csv\n",
      "Normalized_csv_HAPPY_FRAME_seg.b047bjw_rgb_vid1.csv\n",
      "Normalized_csv_HAPPY_FRAME_seg.s013khw_rgb_vid1.csv\n",
      "Normalized_csv_HAPPY_FRAME_seg.s031yes_rgb_vid1.csv\n",
      "Normalized_csv_HAPPY_FRAME_seg.b034chs_rgb_vid2.csv\n",
      "Normalized_csv_HAPPY_FRAME_seg.s001pmg_rgb_vid1.csv\n",
      "Normalized_csv_HAPPY_FRAME_seg.b049jsy_rgb_vid1.csv\n",
      "Normalized_csv_HAPPY_FRAME_seg.s040jyj_rgb_vid2.csv\n",
      "Normalized_csv_HAPPY_FRAME_seg.s044sj_rgb_vid2.csv\n",
      "Normalized_csv_HAPPY_FRAME_seg.b027hmg_rgb_vid1.csv\n",
      "Normalized_csv_HAPPY_FRAME_seg.s004psm_rgb_vid2.csv\n",
      "Normalized_csv_HAPPY_FRAME_seg.b006pjm_rgb_vid2.csv\n",
      "Normalized_csv_HAPPY_FRAME_seg.s018jdh_rgb_vid2.csv\n",
      "Normalized_csv_HAPPY_FRAME_seg.b031sje_rgb_vid2.csv\n",
      "Normalized_csv_HAPPY_FRAME_seg.b037smw_rgb_vid2.csv\n",
      "Normalized_csv_HAPPY_FRAME_seg.s019ydy_rgb_vid1.csv\n",
      "Normalized_csv_HAPPY_FRAME_seg.b048lje_rgb_vid1.csv\n",
      "Normalized_csv_HAPPY_FRAME_seg.s015sjh_rgb_vid1.csv\n",
      "Normalized_csv_HAPPY_FRAME_seg.b004hjy_rgb_vid2.csv\n",
      "Normalized_csv_HAPPY_FRAME_seg.b003kho_rgb_vid2.csv\n",
      "57\n"
     ]
    }
   ],
   "source": [
    "spontaneous_file_list = listdir('spontaneous')\n",
    "\n",
    "for i in range(m):\n",
    "    fileName = spontaneous_file_list[i]\n",
    "    print(fileName)\n",
    "\n",
    "print(m)"
   ]
  },
  {
   "cell_type": "code",
   "execution_count": 3,
   "metadata": {},
   "outputs": [],
   "source": [
    "posed_mat = zeros((m,29,100))\n",
    "spontaneous_mat = zeros((m,29,100))"
   ]
  },
  {
   "cell_type": "code",
   "execution_count": 4,
   "metadata": {},
   "outputs": [
    {
     "name": "stdout",
     "output_type": "stream",
     "text": [
      "/Users/YoonyoungGong/Documents/brm/1차년도 청년그룹 웃는표정 비대칭성 측정결과\n"
     ]
    },
    {
     "name": "stderr",
     "output_type": "stream",
     "text": [
      "/Users/YoonyoungGong/anaconda3/lib/python3.7/site-packages/matplotlib/axes/_axes.py:6521: MatplotlibDeprecationWarning: \n",
      "The 'normed' kwarg was deprecated in Matplotlib 2.1 and will be removed in 3.1. Use 'density' instead.\n",
      "  alternative=\"'density'\", removal=\"3.1\")\n"
     ]
    },
    {
     "name": "stdout",
     "output_type": "stream",
     "text": [
      "/Users/YoonyoungGong/Documents/brm/1차년도 청년그룹 웃는표정 비대칭성 측정결과/test\n"
     ]
    },
    {
     "ename": "FileNotFoundError",
     "evalue": "[Errno 2] No such file or directory: '/Users/YoonyoungGong/Documents/brm/1차년도 청년그룹 웃는표정 비대칭성 측정결과/test/posed'",
     "output_type": "error",
     "traceback": [
      "\u001b[0;31m---------------------------------------------------------------------------\u001b[0m",
      "\u001b[0;31mFileNotFoundError\u001b[0m                         Traceback (most recent call last)",
      "\u001b[0;32m<ipython-input-4-414c2a22078d>\u001b[0m in \u001b[0;36m<module>\u001b[0;34m\u001b[0m\n\u001b[1;32m      2\u001b[0m     \u001b[0mbase_dir\u001b[0m \u001b[0;34m=\u001b[0m \u001b[0mos\u001b[0m\u001b[0;34m.\u001b[0m\u001b[0mgetcwd\u001b[0m\u001b[0;34m(\u001b[0m\u001b[0;34m)\u001b[0m\u001b[0;34m\u001b[0m\u001b[0;34m\u001b[0m\u001b[0m\n\u001b[1;32m      3\u001b[0m     \u001b[0mprint\u001b[0m\u001b[0;34m(\u001b[0m\u001b[0mbase_dir\u001b[0m\u001b[0;34m)\u001b[0m\u001b[0;34m\u001b[0m\u001b[0;34m\u001b[0m\u001b[0m\n\u001b[0;32m----> 4\u001b[0;31m     \u001b[0mchdir\u001b[0m\u001b[0;34m(\u001b[0m\u001b[0mos\u001b[0m\u001b[0;34m.\u001b[0m\u001b[0mpath\u001b[0m\u001b[0;34m.\u001b[0m\u001b[0mjoin\u001b[0m\u001b[0;34m(\u001b[0m\u001b[0mbase_dir\u001b[0m\u001b[0;34m,\u001b[0m \u001b[0;34m'posed'\u001b[0m\u001b[0;34m)\u001b[0m\u001b[0;34m)\u001b[0m\u001b[0;34m\u001b[0m\u001b[0;34m\u001b[0m\u001b[0m\n\u001b[0m\u001b[1;32m      5\u001b[0m     \u001b[0mposed_data\u001b[0m \u001b[0;34m=\u001b[0m \u001b[0mreadcsv\u001b[0m\u001b[0;34m(\u001b[0m\u001b[0mposed_file_list\u001b[0m\u001b[0;34m[\u001b[0m\u001b[0mi\u001b[0m\u001b[0;34m]\u001b[0m\u001b[0;34m)\u001b[0m\u001b[0;34m\u001b[0m\u001b[0;34m\u001b[0m\u001b[0m\n\u001b[1;32m      6\u001b[0m     \u001b[0mposed_data\u001b[0m \u001b[0;34m=\u001b[0m \u001b[0mposed_data\u001b[0m\u001b[0;34m.\u001b[0m\u001b[0mtranspose\u001b[0m\u001b[0;34m(\u001b[0m\u001b[0;34m)\u001b[0m\u001b[0;34m\u001b[0m\u001b[0;34m\u001b[0m\u001b[0m\n",
      "\u001b[0;31mFileNotFoundError\u001b[0m: [Errno 2] No such file or directory: '/Users/YoonyoungGong/Documents/brm/1차년도 청년그룹 웃는표정 비대칭성 측정결과/test/posed'"
     ]
    },
    {
     "data": {
      "image/png": "[encoded data removed]",
      "text/plain": [
       "<Figure size 640x480 with 1 Axes>"
      ]
     },
     "metadata": {
      "needs_background": "light"
     },
     "output_type": "display_data"
    }
   ],
   "source": [
    "base_dir = os.getcwd()\n",
    "\n",
    "for i in range(m):\n",
    "    chdir(os.path.join(base_dir, 'posed'))\n",
    "    posed_data = readcsv(posed_file_list[i])\n",
    "    posed_data = posed_data.transpose()\n",
    "\n",
    "    chdir(os.path.join(base_dir, 'spontaneous'))\n",
    "    spontaneous_data = readcsv(spontaneous_file_list[i])\n",
    "    spontaneous_data = spontaneous_data.transpose()\n",
    "    \n",
    "    chdir(os.path.join(base_dir, 'test'))\n",
    "    \n",
    "    for j in range(29):\n",
    "        posed_n, bins, _ = plt.hist(posed_data[j,:]*100, 100, normed=True, histtype='stepfilled', label='posed')\n",
    "        spontaneous_n, bins, _ = plt.hist(spontaneous_data[j,:]*100, 100, normed=True, histtype='stepfilled', alpha=0.75, label='spontaneous')\n",
    "        fig = plt.gcf()\n",
    "        DPI = fig.get_dpi()\n",
    "        fig.set_size_inches(640.0/float(DPI),480.0/float(DPI))\n",
    "        plt.title(type_string[j], size=30)\n",
    "        plt.xlabel(\"Value\", size=30)\n",
    "        plt.ylabel(\"Probability\", size=30)\n",
    "        plt.legend()\n",
    "        format_string = type_string[j]+\".png\"\n",
    "        plt.savefig(format_string, format='png')\n",
    "        plt.cla()\n",
    "        posed_mat[i,j,:] = posed_n[0:101]\n",
    "        spontaneous_mat[i,j,:] = spontaneous_n[0:101]"
   ]
  },
  {
   "cell_type": "code",
   "execution_count": 5,
   "metadata": {},
   "outputs": [
    {
     "data": {
      "text/plain": [
       "0.9999999999999999"
      ]
     },
     "execution_count": 5,
     "metadata": {},
     "output_type": "execute_result"
    }
   ],
   "source": [
    "sum(posed_mat[:,0,:])"
   ]
  },
  {
   "cell_type": "code",
   "execution_count": 6,
   "metadata": {},
   "outputs": [
    {
     "data": {
      "text/plain": [
       "0.9999999999999999"
      ]
     },
     "execution_count": 6,
     "metadata": {},
     "output_type": "execute_result"
    }
   ],
   "source": [
    "sum(spontaneous_mat[:,0,:])"
   ]
  },
  {
   "cell_type": "code",
   "execution_count": 7,
   "metadata": {},
   "outputs": [],
   "source": [
    "posed_total = posed_mat.sum(axis=0)\n",
    "spontaneous_total = spontaneous_mat.sum(axis=0)\n",
    "\n",
    "posed_total = posed_total / 57\n",
    "spontaneous_total = spontaneous_total / 57"
   ]
  },
  {
   "cell_type": "code",
   "execution_count": 8,
   "metadata": {},
   "outputs": [
    {
     "data": {
      "text/plain": [
       "array([0.00044869, 0.        , 0.        , 0.00044869, 0.        ,\n",
       "       0.        , 0.        , 0.00044869, 0.        , 0.        ,\n",
       "       0.        , 0.00044869, 0.        , 0.00179477, 0.00044869,\n",
       "       0.00089738, 0.00134608, 0.        , 0.00224346, 0.00044869,\n",
       "       0.00179477, 0.00089738, 0.00179477, 0.00044869, 0.00089738,\n",
       "       0.00314084, 0.00358954, 0.00314084, 0.00673038, 0.00224346,\n",
       "       0.00762777, 0.00628169, 0.00628169, 0.00852515, 0.00448692,\n",
       "       0.00673038, 0.00673038, 0.00762777, 0.00673038, 0.00448692,\n",
       "       0.00717907, 0.005833  , 0.00493561, 0.00628169, 0.00358954,\n",
       "       0.00314084, 0.00448692, 0.00269215, 0.00269215, 0.00403823,\n",
       "       0.00269215, 0.00179477, 0.00224346, 0.00044869, 0.00044869,\n",
       "       0.        , 0.00044869, 0.00089738, 0.00089738, 0.00044869,\n",
       "       0.        , 0.00044869, 0.00089738, 0.00089738, 0.00134608,\n",
       "       0.        , 0.00044869, 0.00179477, 0.00089738, 0.00134608,\n",
       "       0.00134608, 0.00179477, 0.        , 0.00089738, 0.00089738,\n",
       "       0.00044869, 0.00134608, 0.00044869, 0.00224346, 0.        ,\n",
       "       0.00044869, 0.        , 0.00134608, 0.        , 0.        ,\n",
       "       0.00089738, 0.        , 0.        , 0.        , 0.        ,\n",
       "       0.        , 0.        , 0.        , 0.        , 0.00044869,\n",
       "       0.        , 0.        , 0.        , 0.        , 0.00044869])"
      ]
     },
     "execution_count": 8,
     "metadata": {},
     "output_type": "execute_result"
    }
   ],
   "source": [
    "posed_total[10]*10"
   ]
  },
  {
   "cell_type": "code",
   "execution_count": 9,
   "metadata": {},
   "outputs": [
    {
     "ename": "AttributeError",
     "evalue": "Unknown property histtype",
     "output_type": "error",
     "traceback": [
      "\u001b[0;31m---------------------------------------------------------------------------\u001b[0m",
      "\u001b[0;31mAttributeError\u001b[0m                            Traceback (most recent call last)",
      "\u001b[0;32m<ipython-input-9-ea65c5b09b5f>\u001b[0m in \u001b[0;36m<module>\u001b[0;34m\u001b[0m\n\u001b[1;32m      1\u001b[0m \u001b[0;32mfor\u001b[0m \u001b[0mj\u001b[0m \u001b[0;32min\u001b[0m \u001b[0mrange\u001b[0m\u001b[0;34m(\u001b[0m\u001b[0;36m29\u001b[0m\u001b[0;34m)\u001b[0m\u001b[0;34m:\u001b[0m\u001b[0;34m\u001b[0m\u001b[0;34m\u001b[0m\u001b[0m\n\u001b[0;32m----> 2\u001b[0;31m     \u001b[0mplt\u001b[0m\u001b[0;34m.\u001b[0m\u001b[0mbar\u001b[0m\u001b[0;34m(\u001b[0m\u001b[0mposed_total\u001b[0m\u001b[0;34m[\u001b[0m\u001b[0mj\u001b[0m\u001b[0;34m,\u001b[0m\u001b[0;34m:\u001b[0m\u001b[0;34m]\u001b[0m\u001b[0;34m,\u001b[0m \u001b[0;36m100\u001b[0m\u001b[0;34m,\u001b[0m \u001b[0mhisttype\u001b[0m\u001b[0;34m=\u001b[0m\u001b[0;34m'stepfilled'\u001b[0m\u001b[0;34m,\u001b[0m \u001b[0mlabel\u001b[0m\u001b[0;34m=\u001b[0m\u001b[0;34m'posed'\u001b[0m\u001b[0;34m)\u001b[0m\u001b[0;34m\u001b[0m\u001b[0;34m\u001b[0m\u001b[0m\n\u001b[0m\u001b[1;32m      3\u001b[0m     \u001b[0mplt\u001b[0m\u001b[0;34m.\u001b[0m\u001b[0mbar\u001b[0m\u001b[0;34m(\u001b[0m\u001b[0mspontaneous_total\u001b[0m\u001b[0;34m[\u001b[0m\u001b[0mj\u001b[0m\u001b[0;34m,\u001b[0m\u001b[0;34m:\u001b[0m\u001b[0;34m]\u001b[0m\u001b[0;34m,\u001b[0m \u001b[0;36m100\u001b[0m\u001b[0;34m,\u001b[0m \u001b[0mhisttype\u001b[0m\u001b[0;34m=\u001b[0m\u001b[0;34m'stepfilled'\u001b[0m\u001b[0;34m,\u001b[0m \u001b[0malpha\u001b[0m\u001b[0;34m=\u001b[0m\u001b[0;36m0.75\u001b[0m\u001b[0;34m,\u001b[0m \u001b[0mlabel\u001b[0m\u001b[0;34m=\u001b[0m\u001b[0;34m'spontaneous'\u001b[0m\u001b[0;34m)\u001b[0m\u001b[0;34m\u001b[0m\u001b[0;34m\u001b[0m\u001b[0m\n\u001b[1;32m      4\u001b[0m     \u001b[0mfig\u001b[0m \u001b[0;34m=\u001b[0m \u001b[0mplt\u001b[0m\u001b[0;34m.\u001b[0m\u001b[0mgcf\u001b[0m\u001b[0;34m(\u001b[0m\u001b[0;34m)\u001b[0m\u001b[0;34m\u001b[0m\u001b[0;34m\u001b[0m\u001b[0m\n\u001b[1;32m      5\u001b[0m     \u001b[0mDPI\u001b[0m \u001b[0;34m=\u001b[0m \u001b[0mfig\u001b[0m\u001b[0;34m.\u001b[0m\u001b[0mget_dpi\u001b[0m\u001b[0;34m(\u001b[0m\u001b[0;34m)\u001b[0m\u001b[0;34m\u001b[0m\u001b[0;34m\u001b[0m\u001b[0m\n",
      "\u001b[0;32m~/anaconda3/lib/python3.7/site-packages/matplotlib/pyplot.py\u001b[0m in \u001b[0;36mbar\u001b[0;34m(x, height, width, bottom, align, data, **kwargs)\u001b[0m\n\u001b[1;32m   2457\u001b[0m     return gca().bar(\n\u001b[1;32m   2458\u001b[0m         \u001b[0mx\u001b[0m\u001b[0;34m,\u001b[0m \u001b[0mheight\u001b[0m\u001b[0;34m,\u001b[0m \u001b[0mwidth\u001b[0m\u001b[0;34m=\u001b[0m\u001b[0mwidth\u001b[0m\u001b[0;34m,\u001b[0m \u001b[0mbottom\u001b[0m\u001b[0;34m=\u001b[0m\u001b[0mbottom\u001b[0m\u001b[0;34m,\u001b[0m \u001b[0malign\u001b[0m\u001b[0;34m=\u001b[0m\u001b[0malign\u001b[0m\u001b[0;34m,\u001b[0m\u001b[0;34m\u001b[0m\u001b[0;34m\u001b[0m\u001b[0m\n\u001b[0;32m-> 2459\u001b[0;31m         **({\"data\": data} if data is not None else {}), **kwargs)\n\u001b[0m\u001b[1;32m   2460\u001b[0m \u001b[0;34m\u001b[0m\u001b[0m\n\u001b[1;32m   2461\u001b[0m \u001b[0;34m\u001b[0m\u001b[0m\n",
      "\u001b[0;32m~/anaconda3/lib/python3.7/site-packages/matplotlib/__init__.py\u001b[0m in \u001b[0;36minner\u001b[0;34m(ax, data, *args, **kwargs)\u001b[0m\n\u001b[1;32m   1808\u001b[0m                         \u001b[0;34m\"the Matplotlib list!)\"\u001b[0m \u001b[0;34m%\u001b[0m \u001b[0;34m(\u001b[0m\u001b[0mlabel_namer\u001b[0m\u001b[0;34m,\u001b[0m \u001b[0mfunc\u001b[0m\u001b[0;34m.\u001b[0m\u001b[0m__name__\u001b[0m\u001b[0;34m)\u001b[0m\u001b[0;34m,\u001b[0m\u001b[0;34m\u001b[0m\u001b[0;34m\u001b[0m\u001b[0m\n\u001b[1;32m   1809\u001b[0m                         RuntimeWarning, stacklevel=2)\n\u001b[0;32m-> 1810\u001b[0;31m             \u001b[0;32mreturn\u001b[0m \u001b[0mfunc\u001b[0m\u001b[0;34m(\u001b[0m\u001b[0max\u001b[0m\u001b[0;34m,\u001b[0m \u001b[0;34m*\u001b[0m\u001b[0margs\u001b[0m\u001b[0;34m,\u001b[0m \u001b[0;34m**\u001b[0m\u001b[0mkwargs\u001b[0m\u001b[0;34m)\u001b[0m\u001b[0;34m\u001b[0m\u001b[0;34m\u001b[0m\u001b[0m\n\u001b[0m\u001b[1;32m   1811\u001b[0m \u001b[0;34m\u001b[0m\u001b[0m\n\u001b[1;32m   1812\u001b[0m         inner.__doc__ = _add_data_doc(inner.__doc__,\n",
      "\u001b[0;32m~/anaconda3/lib/python3.7/site-packages/matplotlib/axes/_axes.py\u001b[0m in \u001b[0;36mbar\u001b[0;34m(self, x, height, width, bottom, align, **kwargs)\u001b[0m\n\u001b[1;32m   2296\u001b[0m                 \u001b[0mlabel\u001b[0m\u001b[0;34m=\u001b[0m\u001b[0;34m'_nolegend_'\u001b[0m\u001b[0;34m,\u001b[0m\u001b[0;34m\u001b[0m\u001b[0;34m\u001b[0m\u001b[0m\n\u001b[1;32m   2297\u001b[0m                 )\n\u001b[0;32m-> 2298\u001b[0;31m             \u001b[0mr\u001b[0m\u001b[0;34m.\u001b[0m\u001b[0mupdate\u001b[0m\u001b[0;34m(\u001b[0m\u001b[0mkwargs\u001b[0m\u001b[0;34m)\u001b[0m\u001b[0;34m\u001b[0m\u001b[0;34m\u001b[0m\u001b[0m\n\u001b[0m\u001b[1;32m   2299\u001b[0m             \u001b[0mr\u001b[0m\u001b[0;34m.\u001b[0m\u001b[0mget_path\u001b[0m\u001b[0;34m(\u001b[0m\u001b[0;34m)\u001b[0m\u001b[0;34m.\u001b[0m\u001b[0m_interpolation_steps\u001b[0m \u001b[0;34m=\u001b[0m \u001b[0;36m100\u001b[0m\u001b[0;34m\u001b[0m\u001b[0;34m\u001b[0m\u001b[0m\n\u001b[1;32m   2300\u001b[0m             \u001b[0;32mif\u001b[0m \u001b[0morientation\u001b[0m \u001b[0;34m==\u001b[0m \u001b[0;34m'vertical'\u001b[0m\u001b[0;34m:\u001b[0m\u001b[0;34m\u001b[0m\u001b[0;34m\u001b[0m\u001b[0m\n",
      "\u001b[0;32m~/anaconda3/lib/python3.7/site-packages/matplotlib/artist.py\u001b[0m in \u001b[0;36mupdate\u001b[0;34m(self, props)\u001b[0m\n\u001b[1;32m    914\u001b[0m \u001b[0;34m\u001b[0m\u001b[0m\n\u001b[1;32m    915\u001b[0m         \u001b[0;32mwith\u001b[0m \u001b[0mcbook\u001b[0m\u001b[0;34m.\u001b[0m\u001b[0m_setattr_cm\u001b[0m\u001b[0;34m(\u001b[0m\u001b[0mself\u001b[0m\u001b[0;34m,\u001b[0m \u001b[0meventson\u001b[0m\u001b[0;34m=\u001b[0m\u001b[0;32mFalse\u001b[0m\u001b[0;34m)\u001b[0m\u001b[0;34m:\u001b[0m\u001b[0;34m\u001b[0m\u001b[0;34m\u001b[0m\u001b[0m\n\u001b[0;32m--> 916\u001b[0;31m             \u001b[0mret\u001b[0m \u001b[0;34m=\u001b[0m \u001b[0;34m[\u001b[0m\u001b[0m_update_property\u001b[0m\u001b[0;34m(\u001b[0m\u001b[0mself\u001b[0m\u001b[0;34m,\u001b[0m \u001b[0mk\u001b[0m\u001b[0;34m,\u001b[0m \u001b[0mv\u001b[0m\u001b[0;34m)\u001b[0m \u001b[0;32mfor\u001b[0m \u001b[0mk\u001b[0m\u001b[0;34m,\u001b[0m \u001b[0mv\u001b[0m \u001b[0;32min\u001b[0m \u001b[0mprops\u001b[0m\u001b[0;34m.\u001b[0m\u001b[0mitems\u001b[0m\u001b[0;34m(\u001b[0m\u001b[0;34m)\u001b[0m\u001b[0;34m]\u001b[0m\u001b[0;34m\u001b[0m\u001b[0;34m\u001b[0m\u001b[0m\n\u001b[0m\u001b[1;32m    917\u001b[0m \u001b[0;34m\u001b[0m\u001b[0m\n\u001b[1;32m    918\u001b[0m         \u001b[0;32mif\u001b[0m \u001b[0mlen\u001b[0m\u001b[0;34m(\u001b[0m\u001b[0mret\u001b[0m\u001b[0;34m)\u001b[0m\u001b[0;34m:\u001b[0m\u001b[0;34m\u001b[0m\u001b[0;34m\u001b[0m\u001b[0m\n",
      "\u001b[0;32m~/anaconda3/lib/python3.7/site-packages/matplotlib/artist.py\u001b[0m in \u001b[0;36m<listcomp>\u001b[0;34m(.0)\u001b[0m\n\u001b[1;32m    914\u001b[0m \u001b[0;34m\u001b[0m\u001b[0m\n\u001b[1;32m    915\u001b[0m         \u001b[0;32mwith\u001b[0m \u001b[0mcbook\u001b[0m\u001b[0;34m.\u001b[0m\u001b[0m_setattr_cm\u001b[0m\u001b[0;34m(\u001b[0m\u001b[0mself\u001b[0m\u001b[0;34m,\u001b[0m \u001b[0meventson\u001b[0m\u001b[0;34m=\u001b[0m\u001b[0;32mFalse\u001b[0m\u001b[0;34m)\u001b[0m\u001b[0;34m:\u001b[0m\u001b[0;34m\u001b[0m\u001b[0;34m\u001b[0m\u001b[0m\n\u001b[0;32m--> 916\u001b[0;31m             \u001b[0mret\u001b[0m \u001b[0;34m=\u001b[0m \u001b[0;34m[\u001b[0m\u001b[0m_update_property\u001b[0m\u001b[0;34m(\u001b[0m\u001b[0mself\u001b[0m\u001b[0;34m,\u001b[0m \u001b[0mk\u001b[0m\u001b[0;34m,\u001b[0m \u001b[0mv\u001b[0m\u001b[0;34m)\u001b[0m \u001b[0;32mfor\u001b[0m \u001b[0mk\u001b[0m\u001b[0;34m,\u001b[0m \u001b[0mv\u001b[0m \u001b[0;32min\u001b[0m \u001b[0mprops\u001b[0m\u001b[0;34m.\u001b[0m\u001b[0mitems\u001b[0m\u001b[0;34m(\u001b[0m\u001b[0;34m)\u001b[0m\u001b[0;34m]\u001b[0m\u001b[0;34m\u001b[0m\u001b[0;34m\u001b[0m\u001b[0m\n\u001b[0m\u001b[1;32m    917\u001b[0m \u001b[0;34m\u001b[0m\u001b[0m\n\u001b[1;32m    918\u001b[0m         \u001b[0;32mif\u001b[0m \u001b[0mlen\u001b[0m\u001b[0;34m(\u001b[0m\u001b[0mret\u001b[0m\u001b[0;34m)\u001b[0m\u001b[0;34m:\u001b[0m\u001b[0;34m\u001b[0m\u001b[0;34m\u001b[0m\u001b[0m\n",
      "\u001b[0;32m~/anaconda3/lib/python3.7/site-packages/matplotlib/artist.py\u001b[0m in \u001b[0;36m_update_property\u001b[0;34m(self, k, v)\u001b[0m\n\u001b[1;32m    910\u001b[0m                 \u001b[0mfunc\u001b[0m \u001b[0;34m=\u001b[0m \u001b[0mgetattr\u001b[0m\u001b[0;34m(\u001b[0m\u001b[0mself\u001b[0m\u001b[0;34m,\u001b[0m \u001b[0;34m'set_'\u001b[0m \u001b[0;34m+\u001b[0m \u001b[0mk\u001b[0m\u001b[0;34m,\u001b[0m \u001b[0;32mNone\u001b[0m\u001b[0;34m)\u001b[0m\u001b[0;34m\u001b[0m\u001b[0;34m\u001b[0m\u001b[0m\n\u001b[1;32m    911\u001b[0m                 \u001b[0;32mif\u001b[0m \u001b[0;32mnot\u001b[0m \u001b[0mcallable\u001b[0m\u001b[0;34m(\u001b[0m\u001b[0mfunc\u001b[0m\u001b[0;34m)\u001b[0m\u001b[0;34m:\u001b[0m\u001b[0;34m\u001b[0m\u001b[0;34m\u001b[0m\u001b[0m\n\u001b[0;32m--> 912\u001b[0;31m                     \u001b[0;32mraise\u001b[0m \u001b[0mAttributeError\u001b[0m\u001b[0;34m(\u001b[0m\u001b[0;34m'Unknown property %s'\u001b[0m \u001b[0;34m%\u001b[0m \u001b[0mk\u001b[0m\u001b[0;34m)\u001b[0m\u001b[0;34m\u001b[0m\u001b[0;34m\u001b[0m\u001b[0m\n\u001b[0m\u001b[1;32m    913\u001b[0m                 \u001b[0;32mreturn\u001b[0m \u001b[0mfunc\u001b[0m\u001b[0;34m(\u001b[0m\u001b[0mv\u001b[0m\u001b[0;34m)\u001b[0m\u001b[0;34m\u001b[0m\u001b[0;34m\u001b[0m\u001b[0m\n\u001b[1;32m    914\u001b[0m \u001b[0;34m\u001b[0m\u001b[0m\n",
      "\u001b[0;31mAttributeError\u001b[0m: Unknown property histtype"
     ]
    },
    {
     "data": {
      "image/png": "[encoded data removed]",
      "text/plain": [
       "<Figure size 432x288 with 1 Axes>"
      ]
     },
     "metadata": {
      "needs_background": "light"
     },
     "output_type": "display_data"
    }
   ],
   "source": [
    "for j in range(29):\n",
    "    plt.bar(posed_total[j,:], 100, histtype='stepfilled', label='posed')\n",
    "    plt.bar(spontaneous_total[j,:], 100, histtype='stepfilled', alpha=0.75, label='spontaneous')\n",
    "    fig = plt.gcf()\n",
    "    DPI = fig.get_dpi()\n",
    "    fig.set_size_inches(640.0/float(DPI),480.0/float(DPI))\n",
    "    plt.title(type_string[j], size=30)\n",
    "    plt.xlabel(\"Value\", size=30)\n",
    "    plt.ylabel(\"density\", size=30)\n",
    "    plt.legend()\n",
    "    format_string = type_string[j]+\".png\"\n",
    "    plt.savefig(format_string, format='png')\n",
    "    plt.cla()"
   ]
  },
  {
   "cell_type": "code",
   "execution_count": 10,
   "metadata": {},
   "outputs": [
    {
     "data": {
      "text/plain": [
       "array([8.97384125e-05, 0.00000000e+00, 0.00000000e+00, 1.79476825e-04,\n",
       "       1.79476825e-04, 8.97384125e-05, 4.48692063e-05, 1.34607619e-04,\n",
       "       1.34607619e-04, 2.24346031e-04, 4.03822856e-04, 2.69215238e-04,\n",
       "       3.14084444e-04, 2.69215238e-04, 4.48692063e-04, 3.14084444e-04,\n",
       "       5.83299681e-04, 4.03822856e-04, 8.97384125e-04, 1.12173016e-03,\n",
       "       8.52514919e-04, 7.17907300e-04, 5.38430475e-04, 1.07686095e-03,\n",
       "       6.28168888e-04, 4.93561269e-04, 8.97384125e-04, 3.14084444e-04,\n",
       "       4.93561269e-04, 3.58953650e-04, 1.79476825e-04, 2.24346031e-04,\n",
       "       2.24346031e-04, 1.34607619e-04, 1.79476825e-04, 1.34607619e-04,\n",
       "       2.24346031e-04, 4.03822856e-04, 1.79476825e-04, 2.69215238e-04,\n",
       "       2.69215238e-04, 1.34607619e-04, 2.69215238e-04, 1.79476825e-04,\n",
       "       2.24346031e-04, 2.24346031e-04, 1.34607619e-04, 8.97384125e-05,\n",
       "       1.79476825e-04, 4.48692063e-05, 8.97384125e-05, 8.97384125e-05,\n",
       "       1.79476825e-04, 8.97384125e-05, 0.00000000e+00, 0.00000000e+00,\n",
       "       1.34607619e-04, 0.00000000e+00, 4.48692063e-05, 0.00000000e+00,\n",
       "       0.00000000e+00, 0.00000000e+00, 4.48692063e-05, 4.48692063e-05,\n",
       "       4.48692063e-05, 4.48692063e-05, 0.00000000e+00, 0.00000000e+00,\n",
       "       0.00000000e+00, 0.00000000e+00, 0.00000000e+00, 0.00000000e+00,\n",
       "       0.00000000e+00, 4.48692063e-05, 0.00000000e+00, 4.48692063e-05,\n",
       "       4.48692063e-05, 0.00000000e+00, 0.00000000e+00, 4.48692063e-05,\n",
       "       0.00000000e+00, 4.48692063e-05, 0.00000000e+00, 0.00000000e+00,\n",
       "       0.00000000e+00, 0.00000000e+00, 4.48692063e-05, 0.00000000e+00,\n",
       "       0.00000000e+00, 0.00000000e+00, 0.00000000e+00, 0.00000000e+00,\n",
       "       0.00000000e+00, 4.48692063e-05, 0.00000000e+00, 0.00000000e+00,\n",
       "       0.00000000e+00, 0.00000000e+00, 0.00000000e+00, 4.48692063e-05])"
      ]
     },
     "execution_count": 10,
     "metadata": {},
     "output_type": "execute_result"
    }
   ],
   "source": [
    "posed_total[0,:]"
   ]
  },
  {
   "cell_type": "code",
   "execution_count": 11,
   "metadata": {},
   "outputs": [
    {
     "data": {
      "image/png": "[encoded data removed]",
      "text/plain": [
       "<Figure size 640x480 with 1 Axes>"
      ]
     },
     "metadata": {
      "needs_background": "light"
     },
     "output_type": "display_data"
    }
   ],
   "source": [
    "index = arange(0,1,0.01)\n",
    "\n",
    "for j in range(29):\n",
    "    plt.bar(index, posed_total[j,:],width =0.01, align='center', label='posed')\n",
    "    plt.bar(index, spontaneous_total[j,:],width =0.01, align='center', alpha = 0.75, label='spontaneous')\n",
    "    fig = plt.gcf()\n",
    "    DPI = fig.get_dpi()\n",
    "    fig.set_size_inches(640.0/float(DPI),480.0/float(DPI))\n",
    "    plt.title(type_string[j], size=30)\n",
    "    plt.xlabel(\"Value\", size=30)\n",
    "    plt.ylabel(\"density\", size=30)\n",
    "    plt.legend()\n",
    "    format_string = type_string[j]+\".png\"\n",
    "    #plt.show()\n",
    "    plt.savefig(format_string, format='png')\n",
    "    plt.cla()"
   ]
  },
  {
   "cell_type": "code",
   "execution_count": null,
   "metadata": {},
   "outputs": [],
   "source": []
  }
 ],
 "metadata": {
  "kernelspec": {
   "display_name": "Python 3",
   "language": "python",
   "name": "python3"
  },
  "language_info": {
   "codemirror_mode": {
    "name": "ipython",
    "version": 3
   },
   "file_extension": ".py",
   "mimetype": "text/x-python",
   "name": "python",
   "nbconvert_exporter": "python",
   "pygments_lexer": "ipython3",
   "version": "3.7.1"
  }
 },
 "nbformat": 4,
 "nbformat_minor": 2
}
